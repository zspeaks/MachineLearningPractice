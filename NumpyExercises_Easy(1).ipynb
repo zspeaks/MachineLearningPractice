{
  "nbformat": 4,
  "nbformat_minor": 0,
  "metadata": {
    "colab": {
      "name": "NumpyExercises_Easy.ipynb",
      "provenance": [],
      "collapsed_sections": []
    },
    "kernelspec": {
      "name": "python3",
      "display_name": "Python 3"
    }
  },
  "cells": [
    {
      "cell_type": "markdown",
      "metadata": {
        "id": "cxQOEEGBcQGq"
      },
      "source": [
        "# Numpy practice for beginners"
      ]
    },
    {
      "cell_type": "markdown",
      "metadata": {
        "id": "MFwzgmb3yyDP"
      },
      "source": [
        "These are some easy exercises to review some basic skills. If possible, use the numpy functions instead of native python code. "
      ]
    },
    {
      "cell_type": "code",
      "metadata": {
        "id": "93OEIhibcG94"
      },
      "source": [
        "# First load the library\n",
        "import numpy as np"
      ],
      "execution_count": null,
      "outputs": []
    },
    {
      "cell_type": "markdown",
      "metadata": {
        "id": "zcUBDWaXcoCR"
      },
      "source": [
        "## Execrise 1. \n",
        "\n",
        "Store the vector $(1,2,3)$ in a numpy array: first as a row vector, then as a column vector. Then compute the dot product of these two vectors."
      ]
    },
    {
      "cell_type": "code",
      "metadata": {
        "colab": {
          "base_uri": "https://localhost:8080/"
        },
        "id": "pbUYKucTKdAH",
        "outputId": "e09db386-642b-4fbb-e874-6a119797887a"
      },
      "source": [
        "x = np.array([1,2,3])\n",
        "y = np.array([[1],[2],[3]])\n",
        "print(x)\n",
        "print(y)\n",
        "# \n",
        "print(x@y)\n",
        "print(np.dot(x,y))"
      ],
      "execution_count": null,
      "outputs": [
        {
          "output_type": "stream",
          "text": [
            "[1 2 3]\n",
            "[[1]\n",
            " [2]\n",
            " [3]]\n",
            "[14]\n",
            "[14]\n"
          ],
          "name": "stdout"
        }
      ]
    },
    {
      "cell_type": "markdown",
      "metadata": {
        "id": "WI10XwIXAsQm"
      },
      "source": [
        "## Exercise 2\n",
        "\n",
        "Create the integer matrices\n",
        "$$\n",
        "x = \\left(\n",
        "\\begin{matrix}\n",
        "1 & 2 & 3 & 4 \\\\\n",
        "5 & 6 & 7 & 8 \\\\\n",
        "9 & 10 & 11 & 12 \n",
        "\\end{matrix}\n",
        "\\right)\n",
        ",\n",
        "y = \\left(\n",
        "\\begin{matrix}\n",
        "1 & 2 & 3  \\\\\n",
        "4 & 5 & 6  \\\\\n",
        "7 & 8 & 9 \\\\\n",
        "10 & 11 & 12 \n",
        "\\end{matrix}\n",
        "\\right).\n",
        "$$\n",
        "Describe each matrix, i.e., find its shape, size and dimensions. Print the element located in row 3 column 2 in each case. Then find the matrix products $x\\cdot y$ and $y \\cdot x$. Find the minimum and maximum entry in $x$. Then find the minimum entry in each column of $x$. Then find the average and the median entry in $x$."
      ]
    },
    {
      "cell_type": "code",
      "metadata": {
        "colab": {
          "base_uri": "https://localhost:8080/"
        },
        "id": "NyinS_UyLI0s",
        "outputId": "81e4617c-a664-4469-ae28-9f7a4036485c"
      },
      "source": [
        "x = np.array([[1,2,3,4],[5,6,7,8],[9,10,11,12]])\n",
        "y = np.array([[1,2,3],[4,5,6],[7,8,9],[10,11,12]])\n",
        "print(\"x size is\",x.size)\n",
        "print(\"x shape is\",x.shape)\n",
        "\n",
        "print(\"y size is\",y.size)\n",
        "print(\"y shape is\",y.shape)\n",
        "\n",
        "print()\n",
        "\n",
        "print(np.matmul(x,y))\n",
        "print(np.matmul(y,x))\n",
        "print()\n",
        "\n",
        "print(x[2][1])\n",
        "print(y[2][1])\n",
        "print()\n",
        "\n",
        "print(x.max())\n",
        "print(x.min())\n",
        "print(x.min(axis = 0))\n",
        "\n",
        "print()\n",
        "\n",
        "print(np.mean(x))\n",
        "print(np.median(x))\n"
      ],
      "execution_count": null,
      "outputs": [
        {
          "output_type": "stream",
          "text": [
            "x size is 12\n",
            "x shape is (3, 4)\n",
            "y size is 12\n",
            "y shape is (4, 3)\n",
            "\n",
            "[[ 70  80  90]\n",
            " [158 184 210]\n",
            " [246 288 330]]\n",
            "[[ 38  44  50  56]\n",
            " [ 83  98 113 128]\n",
            " [128 152 176 200]\n",
            " [173 206 239 272]]\n",
            "\n",
            "10\n",
            "8\n",
            "\n",
            "12\n",
            "1\n",
            "[1 2 3 4]\n",
            "\n",
            "6.5\n",
            "6.5\n"
          ],
          "name": "stdout"
        }
      ]
    },
    {
      "cell_type": "markdown",
      "metadata": {
        "id": "sYi1IZO_3i3Y"
      },
      "source": [
        "## Exercise 3\n",
        "\n",
        "Construct the square matrix \n",
        "$$\n",
        "{\\mathbf x} = \\left(\n",
        "\\begin{matrix}\n",
        "1 & 2 & 3 \\\\\n",
        "4 & 5 & 6 \\\\\n",
        "7 & 8 & 9\n",
        "\\end{matrix}\n",
        "\\right).\n",
        "$$\n",
        "Create a new matrix obtained as follows: add $-1$ to the entries in the first column, $0$ to those in the middle column and $+1$ to the entries in the last column. Find the transpose $x^T$ of the matrix $x$. Calculate the determinant of $x$. Calculate the trace of $x$. Get the three elements in the main diagonal. Get the two elements in each of the shorter diagonals - the one above and the one below the main diagonal. Find the rank of the matrix. Find the three eigenvalues $\\lambda_i$. Verify explicitly that they are solutions to the characteristic equation \n",
        "$$\n",
        "\\det ({\\mathbf x} - \\lambda_i {\\mathbf 1} ) = 0.\n",
        "$$"
      ]
    },
    {
      "cell_type": "code",
      "metadata": {
        "id": "JLaEjJ3oVh2i"
      },
      "source": [
        "? np.add"
      ],
      "execution_count": null,
      "outputs": []
    },
    {
      "cell_type": "code",
      "metadata": {
        "colab": {
          "base_uri": "https://localhost:8080/"
        },
        "id": "-0xqDd4kLMLV",
        "outputId": "84cae64f-1ec4-4aa9-c0cc-9398712aa2ed"
      },
      "source": [
        "x = np.array([[1,2,3],[4,5,6],[7,8,9]])\n",
        "print(x)\n",
        "\n",
        "new_x = np.array([[-1,0,1],[-1,0,1],[-1,0,1]])\n",
        "print(new_x)\n",
        "new_x = new_x + x\n",
        "print(new_x)\n",
        "\n",
        "print(np.transpose(x))\n",
        "print(np.linalg.det(x))\n",
        "print(np.trace(x))\n",
        "print(np.diag(x))\n",
        "print(np.diag(x,1))\n",
        "print(np.diag(x,-1))\n",
        "\n",
        "print(np.linalg.matrix_rank(x))\n",
        "print(np.linalg.eigvals(x))\n",
        "ident = np.identity(3)\n",
        "chara = x - np.linalg.eigvals(x)[2]*ident\n",
        "print(np.linalg.det(chara))\n"
      ],
      "execution_count": null,
      "outputs": [
        {
          "output_type": "stream",
          "text": [
            "[[1 2 3]\n",
            " [4 5 6]\n",
            " [7 8 9]]\n",
            "[[-1  0  1]\n",
            " [-1  0  1]\n",
            " [-1  0  1]]\n",
            "[[ 0  2  4]\n",
            " [ 3  5  7]\n",
            " [ 6  8 10]]\n",
            "[[1 4 7]\n",
            " [2 5 8]\n",
            " [3 6 9]]\n",
            "0.0\n",
            "15\n",
            "[1 5 9]\n",
            "[2 6]\n",
            "[4 8]\n",
            "2\n",
            "[ 1.61168440e+01 -1.11684397e+00 -9.75918483e-16]\n",
            "-1.5987211554602194e-14\n"
          ],
          "name": "stdout"
        }
      ]
    }
  ]
}