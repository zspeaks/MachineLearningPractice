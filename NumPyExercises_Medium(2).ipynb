{
  "nbformat": 4,
  "nbformat_minor": 0,
  "metadata": {
    "colab": {
      "name": "NumPyExercises_Medium.ipynb",
      "provenance": [],
      "collapsed_sections": []
    },
    "kernelspec": {
      "name": "python3",
      "display_name": "Python 3"
    }
  },
  "cells": [
    {
      "cell_type": "markdown",
      "metadata": {
        "id": "S9SqOKEl8VTG"
      },
      "source": [
        "# More NumPy Exercises"
      ]
    },
    {
      "cell_type": "markdown",
      "metadata": {
        "id": "Sh8GDqIc8aOC"
      },
      "source": [
        "Let's keep building on our basic numpy skills with the exercises below. If possible, use the numpy functions instead of native python code. "
      ]
    },
    {
      "cell_type": "code",
      "metadata": {
        "id": "UK6FKrQvnyvc"
      },
      "source": [
        "import numpy as np\n",
        "np.random.seed(42) # This guarantees the code will generate the same set of random numbers whenever executed"
      ],
      "execution_count": null,
      "outputs": []
    },
    {
      "cell_type": "markdown",
      "metadata": {
        "id": "4FfNZBZ3XtIB"
      },
      "source": [
        "## Exercise 1"
      ]
    },
    {
      "cell_type": "markdown",
      "metadata": {
        "id": "FQe22bgWY4oI"
      },
      "source": [
        "Let's create two matrices"
      ]
    },
    {
      "cell_type": "code",
      "metadata": {
        "id": "bX6h5m1DY3Xo",
        "colab": {
          "base_uri": "https://localhost:8080/"
        },
        "outputId": "293b3963-aa0b-477f-9dac-211c81af2068"
      },
      "source": [
        "first_matrix = np.array([[1, 2, 3], [4, 5, 6]])\n",
        "print(first_matrix)"
      ],
      "execution_count": null,
      "outputs": [
        {
          "output_type": "stream",
          "text": [
            "[[1 2 3]\n",
            " [4 5 6]]\n"
          ],
          "name": "stdout"
        }
      ]
    },
    {
      "cell_type": "code",
      "metadata": {
        "id": "dYTg82L6ZAze",
        "colab": {
          "base_uri": "https://localhost:8080/"
        },
        "outputId": "4913cc95-6d20-42d3-86c2-ba66f51371c5"
      },
      "source": [
        "second_matrix = np.array([1, 2, 3])\n",
        "print(second_matrix)"
      ],
      "execution_count": null,
      "outputs": [
        {
          "output_type": "stream",
          "text": [
            "[1 2 3]\n"
          ],
          "name": "stdout"
        }
      ]
    },
    {
      "cell_type": "markdown",
      "metadata": {
        "id": "NkWb_FmWZiev"
      },
      "source": [
        "Task 1: without running any code, write down on a piece of paper your prediction for the result from the following operation:\n",
        "\n",
        "<b>first_matrix+second_matrix</b>\n",
        "\n",
        "DO NOT CHEAT!\n",
        "\n",
        "Task 2. Now execute the statement above and check your prediction."
      ]
    },
    {
      "cell_type": "code",
      "metadata": {
        "colab": {
          "base_uri": "https://localhost:8080/"
        },
        "id": "9h6tS8OTvNHU",
        "outputId": "0ebcb683-a1e6-4d0e-b60f-148f2cb8a5ec"
      },
      "source": [
        "print(np.add(first_matrix,second_matrix))"
      ],
      "execution_count": null,
      "outputs": [
        {
          "output_type": "stream",
          "text": [
            "[[2 4 6]\n",
            " [5 7 9]]\n"
          ],
          "name": "stdout"
        }
      ]
    },
    {
      "cell_type": "markdown",
      "metadata": {
        "id": "DgUaNsSpB7PE"
      },
      "source": [
        "## Exercise 2"
      ]
    },
    {
      "cell_type": "markdown",
      "metadata": {
        "id": "rkDJfP_VcT3B"
      },
      "source": [
        "Let's create a common array to work with:"
      ]
    },
    {
      "cell_type": "code",
      "metadata": {
        "id": "qm-kBkZAb0Qp",
        "colab": {
          "base_uri": "https://localhost:8080/"
        },
        "outputId": "032ab378-c51a-4314-c5d7-585243e5333b"
      },
      "source": [
        "np.random.seed(42) # This guarantees the code will generate the same set of random numbers whenever executed\n",
        "random_integers = np.random.randint(1,high=15, size=(3, 5))\n",
        "random_integers"
      ],
      "execution_count": null,
      "outputs": [
        {
          "output_type": "execute_result",
          "data": {
            "text/plain": [
              "array([[ 7,  4, 13, 11,  8],\n",
              "       [13,  5,  7, 10,  3],\n",
              "       [ 7, 11, 11,  8,  5]])"
            ]
          },
          "metadata": {
            "tags": []
          },
          "execution_count": 5
        }
      ]
    },
    {
      "cell_type": "markdown",
      "metadata": {
        "id": "8OyG6YOScaPS"
      },
      "source": [
        "Compute:\n",
        "\n",
        "1. The average value of the entries in the second column\n",
        "2. The maximum value in the second row\n",
        "3. The minimum value in the third row\n",
        "4. The location of the smallest value in the array\n"
      ]
    },
    {
      "cell_type": "code",
      "metadata": {
        "colab": {
          "base_uri": "https://localhost:8080/"
        },
        "id": "ApGbeJeTvd0f",
        "outputId": "79e292e4-fd4a-4d60-95aa-1b5c0ab3ee06"
      },
      "source": [
        "print(np.mean(random_integers, axis=0)[1])\n",
        "print(np.max(random_integers, axis=1)[1])\n",
        "print(np.min(random_integers, axis=1)[2])\n",
        "print(np.where(random_integers == np.min(random_integers)))"
      ],
      "execution_count": null,
      "outputs": [
        {
          "output_type": "stream",
          "text": [
            "6.666666666666667\n",
            "13\n",
            "5\n",
            "(array([1]), array([4]))\n"
          ],
          "name": "stdout"
        }
      ]
    },
    {
      "cell_type": "markdown",
      "metadata": {
        "id": "Hj89Mhdxo4HG"
      },
      "source": [
        "## Exercise 3. "
      ]
    },
    {
      "cell_type": "markdown",
      "metadata": {
        "id": "t7OQpnRPTQH9"
      },
      "source": [
        "Consider the $3\\times 5$ array a3by5 created below."
      ]
    },
    {
      "cell_type": "code",
      "metadata": {
        "id": "7-C2xtfQn7wm",
        "colab": {
          "base_uri": "https://localhost:8080/"
        },
        "outputId": "e75342d2-f829-4c58-fc56-45d1d4466595"
      },
      "source": [
        "a3by5 = np.random.random((3,5))\n",
        "a3by5"
      ],
      "execution_count": null,
      "outputs": [
        {
          "output_type": "execute_result",
          "data": {
            "text/plain": [
              "array([[0.60111501, 0.70807258, 0.02058449, 0.96990985, 0.83244264],\n",
              "       [0.21233911, 0.18182497, 0.18340451, 0.30424224, 0.52475643],\n",
              "       [0.43194502, 0.29122914, 0.61185289, 0.13949386, 0.29214465]])"
            ]
          },
          "metadata": {
            "tags": []
          },
          "execution_count": 7
        }
      ]
    },
    {
      "cell_type": "code",
      "metadata": {
        "colab": {
          "base_uri": "https://localhost:8080/"
        },
        "id": "4qVbOkjJxe3O",
        "outputId": "2aaf96aa-5c55-47d6-e63f-f89182aff926"
      },
      "source": [
        "a1by15 = a3by5.ravel()\n",
        "a1by15.tolist\n",
        "a1by15.sort\n",
        "print(a1by15)\n"
      ],
      "execution_count": null,
      "outputs": [
        {
          "output_type": "stream",
          "text": [
            "[0.60111501 0.70807258 0.02058449 0.96990985 0.83244264 0.21233911\n",
            " 0.18182497 0.18340451 0.30424224 0.52475643 0.43194502 0.29122914\n",
            " 0.61185289 0.13949386 0.29214465]\n"
          ],
          "name": "stdout"
        }
      ]
    },
    {
      "cell_type": "markdown",
      "metadata": {
        "id": "fN7NkTs9pEvP"
      },
      "source": [
        "Flatten it into a list, sort the list and print it.\n"
      ]
    },
    {
      "cell_type": "markdown",
      "metadata": {
        "id": "Pi6Us9m9peCT"
      },
      "source": [
        "## Exercise 4."
      ]
    },
    {
      "cell_type": "markdown",
      "metadata": {
        "id": "EHl1-nllqczu"
      },
      "source": [
        "Consider the arrays x, y and z below."
      ]
    },
    {
      "cell_type": "code",
      "metadata": {
        "id": "M-9h0_qrrETE",
        "colab": {
          "base_uri": "https://localhost:8080/"
        },
        "outputId": "c653c01a-fae6-4373-bd15-5f142f76f93a"
      },
      "source": [
        "x = np.array([-4, -3, -2, -1, 1, 2, 3, 4])\n",
        "y = np.array([-3, -2, -1, 0, 1, 2, 3])\n",
        "z = np.array([0, 0, 0, 0])\n",
        "print(x)\n",
        "print(y)\n",
        "print(z)"
      ],
      "execution_count": null,
      "outputs": [
        {
          "output_type": "stream",
          "text": [
            "[-4 -3 -2 -1  1  2  3  4]\n",
            "[-3 -2 -1  0  1  2  3]\n",
            "[0 0 0 0]\n"
          ],
          "name": "stdout"
        }
      ]
    },
    {
      "cell_type": "markdown",
      "metadata": {
        "id": "a_axeFpUrD4y"
      },
      "source": [
        "1. Write some code to test whether \n",
        "* at least one of the elements in the array is non-zero;\n",
        "* all of the elements in the array are non-zero;\n",
        "* at least one of the elements in the array is equal to zero;  \n",
        "\n",
        "and apply it to each of the three arrays.\n",
        "\n",
        "2. Add 5 to every positive entry in each array."
      ]
    },
    {
      "cell_type": "code",
      "metadata": {
        "colab": {
          "base_uri": "https://localhost:8080/"
        },
        "id": "EVePdA_YdLe7",
        "outputId": "19dd5680-f9aa-4aad-cdd2-be069fb1b64c"
      },
      "source": [
        "def one_non_zero(a):\n",
        "  return np.any(a != 0)\n",
        "def all_non_zero(a):\n",
        "  return np.all(a != 0)\n",
        "def one_zero(a):\n",
        "  return np.any(a == 0)\n",
        "\n",
        "print(one_non_zero(x))\n",
        "print(all_non_zero(x))\n",
        "print(one_zero(x))\n",
        "print()\n",
        "print(one_non_zero(y))\n",
        "print(all_non_zero(y))\n",
        "print(one_zero(y))\n",
        "print()\n",
        "print(one_non_zero(z))\n",
        "print(all_non_zero(z))\n",
        "print(one_zero(z))\n",
        "print()"
      ],
      "execution_count": null,
      "outputs": [
        {
          "output_type": "stream",
          "text": [
            "True\n",
            "True\n",
            "False\n",
            "\n",
            "True\n",
            "False\n",
            "True\n",
            "\n",
            "False\n",
            "False\n",
            "True\n",
            "\n"
          ],
          "name": "stdout"
        }
      ]
    },
    {
      "cell_type": "code",
      "metadata": {
        "colab": {
          "base_uri": "https://localhost:8080/"
        },
        "id": "S4XmEXVThTpL",
        "outputId": "16d91ccf-7d4f-4450-fa0a-bc8095204493"
      },
      "source": [
        "def add_5_to_pos(a):\n",
        "  return np.where(a>0, a+5,a)\n",
        "print(add_5_to_pos(x))\n",
        "print()\n",
        "print(add_5_to_pos(y))\n",
        "print()\n",
        "print(add_5_to_pos(z))\n",
        "print()"
      ],
      "execution_count": null,
      "outputs": [
        {
          "output_type": "stream",
          "text": [
            "[-4 -3 -2 -1  6  7  8  9]\n",
            "\n",
            "[-3 -2 -1  0  6  7  8]\n",
            "\n",
            "[0 0 0 0]\n",
            "\n"
          ],
          "name": "stdout"
        }
      ]
    },
    {
      "cell_type": "markdown",
      "metadata": {
        "id": "4BGBV-ynTifC"
      },
      "source": [
        "## Exercise 5"
      ]
    },
    {
      "cell_type": "markdown",
      "metadata": {
        "id": "d0y1-ieNTlDl"
      },
      "source": [
        "Consider the Pauli matrices defined below.\n",
        "\n",
        "$$\n",
        "\\left(\n",
        "\\begin{matrix}\n",
        "0 & 1 \\\\\n",
        "1 & 0\n",
        "\\end{matrix}\n",
        "\\right),\n",
        "\\left(\n",
        "\\begin{matrix}\n",
        "0 & -i \\\\\n",
        "i & 0\n",
        "\\end{matrix}\n",
        "\\right),\n",
        "\\left(\n",
        "\\begin{matrix}\n",
        "1 & 0 \\\\\n",
        "0 & -1\n",
        "\\end{matrix}\n",
        "\\right)\n",
        "$$\n",
        "\n",
        "1. Verify that they are traceless\n",
        "2. Verify that they all have determinants -1.\n",
        "3. Verify that they are Hermitian.\n",
        "4. Verify that they are unitary.\n",
        "5. Verify the SU(2) algebra, i.e., the commutation relations among the Pauli matrices. If you don't remember the formulas, derive them.\n"
      ]
    },
    {
      "cell_type": "code",
      "metadata": {
        "id": "KKieoaw2U3dd",
        "colab": {
          "base_uri": "https://localhost:8080/"
        },
        "outputId": "b2290b0b-4540-4089-9837-2d915412ffef"
      },
      "source": [
        "sigX = np.matrix([[0+0j,1+0j],[1+0j,0+0j]])\n",
        "sigY = np.matrix([[0+0j,0-1j],[0+1j,0+0j]])\n",
        "sigZ = np.matrix([[1+0j,0+0j],[0+0j,-1+0j]])\n",
        "print(sigX) \n",
        "print(sigY)\n",
        "print(sigZ)"
      ],
      "execution_count": null,
      "outputs": [
        {
          "output_type": "stream",
          "text": [
            "[[0.+0.j 1.+0.j]\n",
            " [1.+0.j 0.+0.j]]\n",
            "[[0.+0.j 0.-1.j]\n",
            " [0.+1.j 0.+0.j]]\n",
            "[[ 1.+0.j  0.+0.j]\n",
            " [ 0.+0.j -1.+0.j]]\n"
          ],
          "name": "stdout"
        }
      ]
    },
    {
      "cell_type": "code",
      "metadata": {
        "colab": {
          "base_uri": "https://localhost:8080/"
        },
        "id": "Ps6oUk2rlOU5",
        "outputId": "614de0a0-6f95-4552-c6b7-059c878d1501"
      },
      "source": [
        "print(np.trace(sigX))\n",
        "print(np.trace(sigY))\n",
        "print(np.trace(sigZ))\n",
        "print()\n",
        "\n",
        "print(np.linalg.det(sigX))\n",
        "print(np.linalg.det(sigY))\n",
        "print(np.linalg.det(sigZ))\n",
        "print()\n",
        "\n",
        "print(sigX == np.conj(np.transpose(sigX)))\n",
        "print(sigY == np.conj(np.transpose(sigY)))\n",
        "print(sigZ == np.conj(np.transpose(sigZ)))\n",
        "print()\n",
        "\n",
        "print(sigX == np.linalg.inv(np.conj(np.transpose(sigX))))\n",
        "print(sigY == np.linalg.inv(np.conj(np.transpose(sigY))))\n",
        "print(sigZ == np.linalg.inv(np.conj(np.transpose(sigZ))))\n",
        "print()\n",
        "\n",
        "def commuator (a,b):\n",
        "  return a@b-b@a\n",
        "\n",
        "print(commuator(sigX,sigY) == 2*1j*sigZ)\n",
        "print(commuator(sigY,sigZ) == 2*1j*sigX)\n",
        "print(commuator(sigZ,sigX) == 2*1j*sigY)\n",
        "print(commuator(sigX,sigX) == 0)"
      ],
      "execution_count": null,
      "outputs": [
        {
          "output_type": "stream",
          "text": [
            "0j\n",
            "0j\n",
            "0j\n",
            "\n",
            "(-1+0j)\n",
            "(-1+0j)\n",
            "(-1+0j)\n",
            "\n",
            "[[ True  True]\n",
            " [ True  True]]\n",
            "[[ True  True]\n",
            " [ True  True]]\n",
            "[[ True  True]\n",
            " [ True  True]]\n",
            "\n",
            "[[ True  True]\n",
            " [ True  True]]\n",
            "[[ True  True]\n",
            " [ True  True]]\n",
            "[[ True  True]\n",
            " [ True  True]]\n",
            "\n",
            "[[ True  True]\n",
            " [ True  True]]\n",
            "[[ True  True]\n",
            " [ True  True]]\n",
            "[[ True  True]\n",
            " [ True  True]]\n",
            "[[ True  True]\n",
            " [ True  True]]\n"
          ],
          "name": "stdout"
        }
      ]
    }
  ]
}