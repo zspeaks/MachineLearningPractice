{
  "nbformat": 4,
  "nbformat_minor": 0,
  "metadata": {
    "colab": {
      "name": "Statistics101.ipynb",
      "provenance": []
    },
    "kernelspec": {
      "name": "python3",
      "display_name": "Python 3"
    }
  },
  "cells": [
    {
      "cell_type": "markdown",
      "metadata": {
        "id": "nf_4x7lMKG59"
      },
      "source": [
        "# The role of statistics in data science"
      ]
    },
    {
      "cell_type": "markdown",
      "metadata": {
        "id": "arvBv7fDKhQx"
      },
      "source": [
        "**Data science** is a fusion of several disciplines\n",
        "\n",
        "1. Math and statistics\n",
        "2. Computer science and information technology\n",
        "3. Domain-specific fields\n",
        "\n",
        "<img src=\"https://images.squarespace-cdn.com/content/v1/5150aec6e4b0e340ec52710a/1364352051365-HZAS3CLBF7ABLE3F5OBY/ke17ZwdGBToddI8pDm48kB2M2-8_3EzuSSXvzQBRsa1Zw-zPPgdn4jUwVcJE1ZvWQUxwkmyExglNqGp0IvTJZUJFbgE-7XRK3dMEBRBhUpxPe_8B-x4gq2tfVez1FwLYYZXud0o-3jV-FAs7tmkMHY-a7GzQZKbHRGZboWC-fOc/Data_Science_VD.png?format=1500w\">\n",
        "\n",
        "Source: The data science Venn diagram\n",
        "http://drewconway.com/zia/2013/3/26/the-data-science-venn-diagram\n"
      ]
    },
    {
      "cell_type": "markdown",
      "metadata": {
        "id": "sy-2hYvzONkN"
      },
      "source": [
        "The goal of this lecture is to introduce some key concepts and terminology from statistics that are relevant for data science. "
      ]
    },
    {
      "cell_type": "markdown",
      "metadata": {
        "id": "-EDimYxnLqVV"
      },
      "source": [
        "# Exploratory Data Analysis (EDA)"
      ]
    },
    {
      "cell_type": "markdown",
      "metadata": {
        "id": "V6--ksVYMxEK"
      },
      "source": [
        "The first step in any data science project is to explore the data. Exploratory Data Analysis is a relatively new area of statistics pioneered by John Tukey \n",
        "https://en.wikipedia.org/wiki/John_Tukey who is also credited with inventing the word \"bit\" and the box plot."
      ]
    },
    {
      "cell_type": "markdown",
      "metadata": {
        "id": "lRC0lCKlPDU1"
      },
      "source": [
        "## Key terms for data types"
      ]
    },
    {
      "cell_type": "markdown",
      "metadata": {
        "id": "5wWNDYJ0PRyw"
      },
      "source": [
        "1. Continuous (interval, float, numeric): Data which can take any value in an interval, e.g. speed, temperature, pressure...\n",
        "2. Discrete (integer, count): Data which can take only integer values, such as counts (number of occurences).\n",
        "3. Categorical (enums, enumerated, factors, nominal, polychotomous): Data that can take on only a specific set of values representing a set of possible categories, e.g. US states, players on a team, colors, etc.\n",
        "4. Binary (dichotomous, logical, indicator, Boolean): a special case of categorical data with only two categories: 0/1, true/false, yes/no.\n",
        "5. Ordinal (ordered factor): categorical data which has explicit ordering, e.g., college football rankings, grades, etc.  \n",
        "\n",
        "Knowing the data type ahead of time may improve software performance."
      ]
    },
    {
      "cell_type": "markdown",
      "metadata": {
        "id": "s9rscVGPSFQp"
      },
      "source": [
        "## Key terms for rectangular data"
      ]
    },
    {
      "cell_type": "markdown",
      "metadata": {
        "id": "yb86TRCxSL4F"
      },
      "source": [
        "A very common data object in data science is the rectangular data object, such as a spreadsheet or database table.\n",
        "\n",
        "1. Data frame: the basic structure for statistics and ML tools.\n",
        "2. Feature (attribute, input, predictor, variable): a column in the table.\n",
        "3. Outcome (dependent variable, response, target, output). Many data science projects involve predicting an \"outcome\" - often a yes/no answer. The features are sometimes used to predict the outcome.\n",
        "4. Record (case, example, instance, observation, pattern, sample): a row in the table.\n",
        "5. Index column: labeling the rows.\n",
        "\n",
        "Be mindful of terminology difference in different fields, e.g. a sample can mean 1 row (computer science) or a collection of rows (statistics).\n",
        "\n",
        "<img src=\"https://media.geeksforgeeks.org/wp-content/uploads/finallpandas.png\">"
      ]
    },
    {
      "cell_type": "markdown",
      "metadata": {
        "id": "lhOhTV1gWAuV"
      },
      "source": [
        "### Non-rectangular Data Structures"
      ]
    },
    {
      "cell_type": "markdown",
      "metadata": {
        "id": "qK2kqYHBWTke"
      },
      "source": [
        "Not everything in data science is an excel spreadsheet. Other possibilities:\n",
        "\n",
        "1. Spatial data structures (images, maps, ...)\n",
        "2. Graphs and graph networks.\n"
      ]
    },
    {
      "cell_type": "markdown",
      "metadata": {
        "id": "QNYnLRAFXgs9"
      },
      "source": [
        "## Estimates of location"
      ]
    },
    {
      "cell_type": "markdown",
      "metadata": {
        "id": "a3YVpHncXsAL"
      },
      "source": [
        "Imagine a large number of measured values for some numerical variables (features). The first step in exploring the data is to get an estimate of the \"typical\" value of each variable, i.e., where most of the data is located (central tendency).\n",
        "\n",
        "1. Mean (average)\n",
        "$$\n",
        "\\text{Mean} = \\bar x = \\frac{1}{N} \\sum_{i=1}^N x_i\n",
        "$$\n",
        "2. Weighted mean (weighted average)\n",
        "$$\n",
        "\\text{Weighted mean}= \\bar{x}_w= \\frac{\\sum_{i=1}^N w_i x_i}{\\sum_{i=1}^N w_i}\n",
        "$$\n",
        "Discuss: why would one use a weighted mean?\n",
        "3. Median (50th percentile): the value for which half of the data is below and half is above. The median is a robust estimate. Discuss: what are the advantages and disadvantages of the median compared to the mean? What is the median of an even number of integers?\n",
        "4. Weighted median: the sum of the weights below and above is the same.\n",
        "5. Trimmed mean (truncated mean): the average but after dropping a fixed number of extreme values. It's a compromise between the mean and the median.\n",
        "6. Robust (resistant): not sensitive to extreme values.\n",
        "7. Outlier (extreme value): a data value which is very different from most of the data. Outliers may be \"good\" (targeted by anomaly detection methods) or \"bad\" (due to errors or malfunctioning equipment).\n"
      ]
    },
    {
      "cell_type": "markdown",
      "metadata": {
        "id": "pDalnVSxcUht"
      },
      "source": [
        "## Estimates of variability"
      ]
    },
    {
      "cell_type": "markdown",
      "metadata": {
        "id": "QaKsp10ReKpC"
      },
      "source": [
        "Variability (also referred to as dispersion) measures whether the data values are tightly clustered or spread out. Variability lies at the heart of statistics: measuring it, reducing it, distinguishing random from real variability, identifying the sources of real variability, etc.\n",
        "\n",
        "1. Deviations (errors, residuals): the difference between the observed values and the estimate of location.\n",
        "\n",
        "$$\n",
        "x_i - \\bar x\n",
        "$$\n",
        "\n",
        "2. Variance (mean-squared error): \n",
        "\n",
        "$$\n",
        "\\text{Variance} \\equiv s^2 = \\frac{\\sum_{i=1}^N (x_i-\\bar x)^2}{N-1}\n",
        "$$\n",
        "\n",
        "3. Standard deviation (l2-norm, Euclidean norm): the square root of the variance.\n",
        "\n",
        "$$\n",
        "s = \\sqrt{\\text{Variance}}\n",
        "$$\n",
        "\n",
        "4. Mean absolute deviation (l1-norm, Manhattan norm): the mean of the absolute value of the deviations.\n",
        "\n",
        "$$\n",
        "\\text{Mean absolute deviation} = \\frac{\\sum_{i=1}^N |x_i-\\bar x|}{N}\n",
        "$$\n",
        "\n",
        "Neither of the last three estimates is robust with respect to outliers.\n",
        "\n",
        "5. Median absolute deviation from the median (MAD):\n",
        "\n",
        "$$\n",
        "\\text{Median absolute deviation} = \\text{Median} ( |x_1-m|, |x_2-m|, \\ldots , |x_N-m|)\n",
        "$$\n",
        "\n",
        "where $m$ is the median. The MAD is robust.\n",
        "\n",
        "6. Range: the difference between the largest and the smallest value in a dataset.\n",
        "\n",
        "7. Order statistics (ranks): Metrics based on the data values sorted from smallest to largest.\n",
        "\n",
        "8. Percentile (quantile): the value at which $P$ percent of the data takes on this value or less and $100-P$ percent of the data take on larger values.\n",
        "\n",
        "9. Interquartile range (IQR): the difference between the 75th percentile and the 25th percentile.\n",
        "\n",
        "For very large data sets, calculating exact percentiles becomes computationally expensive since it requires sorting all the elements in the set. Often some approximate methods are used."
      ]
    },
    {
      "cell_type": "markdown",
      "metadata": {
        "id": "2lcEm-U7kz3M"
      },
      "source": [
        "## Visualizing the distribution"
      ]
    },
    {
      "cell_type": "markdown",
      "metadata": {
        "id": "vrhu6HnCk-GF"
      },
      "source": [
        "Estimates of location and variability are represented by a single number. The next step is looking at the distribution.\n",
        "\n",
        "1. Boxplot (box and whiskers plot): A plot introduced by Tukey to visualize the data. The height of the box is the IQR and the whiskers typically represent the min and max values in the data (sometimes individual outliers may be plotted separately with dots). \n",
        "\n",
        "<img src=\"https://upload.wikimedia.org/wikipedia/commons/thumb/f/fa/Michelsonmorley-boxplot.svg/1280px-Michelsonmorley-boxplot.svg.png\" width=700>\n",
        "\n",
        "2. Frequency table: a tally of the counts that fall within a set of intervals (bins).\n",
        "\n",
        "3. Histogram: a plot of the frequency table.\n",
        "\n",
        "4. Density plot: a smoothed version of the histogram, often based on a kernel density estimate. "
      ]
    },
    {
      "cell_type": "markdown",
      "metadata": {
        "id": "smLeGnYonzSu"
      },
      "source": [
        "## Exploring binary and categorical data"
      ]
    },
    {
      "cell_type": "markdown",
      "metadata": {
        "id": "ipgf-h4ClLLf"
      },
      "source": [
        "1. Mode: the most commonly occurring value in the set.\n",
        "2. Expected value: the average value when the categories can be associated with a numeric value. \n",
        "3. Bar charts: The frequencies of the different categories plotted as bars.\n",
        "4. Pie charts: The frequencies of the different categories plotted as wedges in a pie."
      ]
    },
    {
      "cell_type": "markdown",
      "metadata": {
        "id": "iCX9yoyjpBKC"
      },
      "source": [
        "### Misleading graphs"
      ]
    },
    {
      "cell_type": "markdown",
      "metadata": {
        "id": "p1kgLOUqq6Nv"
      },
      "source": [
        "<img src=\"https://www.statisticshowto.com/wp-content/uploads/2014/01/pie-chart-misleading.png\">\n",
        "\n",
        "<img src=\"https://www.statisticshowto.com/wp-content/uploads/2014/01/usa-today-1.png\" width=500>"
      ]
    },
    {
      "cell_type": "markdown",
      "metadata": {
        "id": "X3V0J5XTsQcM"
      },
      "source": [
        "## Correlation"
      ]
    },
    {
      "cell_type": "markdown",
      "metadata": {
        "id": "9DOOLMgqsUJS"
      },
      "source": [
        "Exploratory data analysis often involves examining the correlation among predictors or between predictors and a target variable.\n",
        "\n",
        "1. Correlation coefficient (ranges from -1 to 1): a metric that measures the extent to which numeric variables are associated with one another. Pearson's correlation coefficient:\n",
        "\n",
        "$$\n",
        "r = \\frac{\\sum_{i=1}^N (x_i-\\bar{x})(y_i-\\bar{y})}{(N-1)s_xs_y}\n",
        "$$\n",
        "\n",
        "2. Correlation matrix: a matrix of the correlation coefficients between different variables.\n",
        "\n",
        "3. Scatterplot: a plot where the x axis is the value of one variable while the y axis is the value of another variable.\n",
        "\n",
        "4. Contour plots.\n",
        "\n",
        "5. Hexagonal binning.\n",
        "\n",
        "6. Violin plots.\n",
        "\n",
        "<img src=\"https://miro.medium.com/max/1040/1*TTMOaNG1o4PgQd-e8LurMg.png\" width=700>\n",
        "\n",
        "<img src=\"https://miro.medium.com/max/1400/1*G5GJ9_M68FBFeZB2wePnjQ.gif\" width=700>"
      ]
    },
    {
      "cell_type": "markdown",
      "metadata": {
        "id": "GUpDProxw37j"
      },
      "source": [
        "### Numpy example of a violin plot"
      ]
    },
    {
      "cell_type": "code",
      "metadata": {
        "id": "kT9PxE4hv9ch"
      },
      "source": [
        "import numpy as np\n",
        "import seaborn as sns\n",
        "import pandas\n",
        "import matplotlib \n",
        "import matplotlib.pyplot as plt"
      ],
      "execution_count": null,
      "outputs": []
    },
    {
      "cell_type": "code",
      "metadata": {
        "id": "XRJBuZfaxHhr"
      },
      "source": [
        "N = 10 ** 4\n",
        "np.random.seed(42)"
      ],
      "execution_count": null,
      "outputs": []
    },
    {
      "cell_type": "code",
      "metadata": {
        "id": "447DnN_pxwyB"
      },
      "source": [
        "def plot_comparison(x, title):\n",
        "    fig, ax = plt.subplots(3, 1, sharex=True)\n",
        "    sns.distplot(x, ax=ax[0])\n",
        "    ax[0].set_title('Histogram + KDE')\n",
        "    sns.boxplot(x, ax=ax[1])\n",
        "    ax[1].set_title('Boxplot')\n",
        "    sns.violinplot(x, ax=ax[2])\n",
        "    ax[2].set_title('Violin plot')\n",
        "    fig.suptitle(title, fontsize=16)\n",
        "    plt.show()"
      ],
      "execution_count": null,
      "outputs": []
    },
    {
      "cell_type": "code",
      "metadata": {
        "id": "Ia1_hIStx0cn",
        "colab": {
          "base_uri": "https://localhost:8080/",
          "height": 417
        },
        "outputId": "3aed0c37-3ff7-4785-fbe6-2f7710ae37b4"
      },
      "source": [
        "sample_gaussian = np.random.normal(size=N)\n",
        "plot_comparison(sample_gaussian, 'Standard Normal Distribution')"
      ],
      "execution_count": null,
      "outputs": [
        {
          "output_type": "stream",
          "text": [
            "/usr/local/lib/python3.6/dist-packages/seaborn/distributions.py:2551: FutureWarning: `distplot` is a deprecated function and will be removed in a future version. Please adapt your code to use either `displot` (a figure-level function with similar flexibility) or `histplot` (an axes-level function for histograms).\n",
            "  warnings.warn(msg, FutureWarning)\n",
            "/usr/local/lib/python3.6/dist-packages/seaborn/_decorators.py:43: FutureWarning: Pass the following variable as a keyword arg: x. From version 0.12, the only valid positional argument will be `data`, and passing other arguments without an explicit keyword will result in an error or misinterpretation.\n",
            "  FutureWarning\n",
            "/usr/local/lib/python3.6/dist-packages/seaborn/_decorators.py:43: FutureWarning: Pass the following variable as a keyword arg: x. From version 0.12, the only valid positional argument will be `data`, and passing other arguments without an explicit keyword will result in an error or misinterpretation.\n",
            "  FutureWarning\n"
          ],
          "name": "stderr"
        },
        {
          "output_type": "display_data",
          "data": {
            "image/png": "[encoded data removed]",
            "text/plain": [
              "<Figure size 432x288 with 3 Axes>"
            ]
          },
          "metadata": {
            "tags": [],
            "needs_background": "light"
          }
        }
      ]
    }
  ]
}